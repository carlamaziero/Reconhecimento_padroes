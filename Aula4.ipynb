{
  "nbformat": 4,
  "nbformat_minor": 0,
  "metadata": {
    "colab": {
      "provenance": [],
      "authorship_tag": "ABX9TyNmN3Q7AuljEM72RipkY9bq",
      "include_colab_link": true
    },
    "kernelspec": {
      "name": "python3",
      "display_name": "Python 3"
    },
    "language_info": {
      "name": "python"
    }
  },
  "cells": [
    {
      "cell_type": "markdown",
      "metadata": {
        "id": "view-in-github",
        "colab_type": "text"
      },
      "source": [
        "<a href=\"https://colab.research.google.com/github/carlamaziero/Reconhecimento_padroes/blob/main/Aula4.ipynb\" target=\"_parent\"><img src=\"https://colab.research.google.com/assets/colab-badge.svg\" alt=\"Open In Colab\"/></a>"
      ]
    },
    {
      "cell_type": "code",
      "execution_count": 1,
      "metadata": {
        "id": "hk_50oPbSE7L"
      },
      "outputs": [],
      "source": [
        "from sklearn import datasets\n",
        "from sklearn.decomposition import PCA"
      ]
    },
    {
      "cell_type": "code",
      "source": [
        "iris = datasets.load_iris()\n",
        "X = iris.data[:, :2]\n",
        "y = iris.target"
      ],
      "metadata": {
        "id": "TlROeVV8Va_U"
      },
      "execution_count": 2,
      "outputs": []
    },
    {
      "cell_type": "code",
      "source": [
        "from sklearn.metrics import mean_squared_error, make_scorer\n",
        "from sklearn.model_selection import cross_validate\n",
        "from sklearn.neighbors import KNeighborsRegressor\n",
        "import numpy as np"
      ],
      "metadata": {
        "id": "POxEv1BOVeTW"
      },
      "execution_count": 3,
      "outputs": []
    },
    {
      "cell_type": "code",
      "source": [
        "modelo = KNeighborsRegressor()\n",
        "scores = cross_validate(modelo, X, y, scoring=make_scorer(mean_squared_error, squared=False))\n",
        "print(scores['test_score'])\n",
        "print(scores)\n",
        "sempad = np.mean(scores['test_score'])\n",
        "print(f\"Sem padronização: {sempad}\")"
      ],
      "metadata": {
        "colab": {
          "base_uri": "https://localhost:8080/"
        },
        "id": "FMfdxuRGVht2",
        "outputId": "e05d5610-8396-4854-eb39-7cc4931bc0a8"
      },
      "execution_count": 4,
      "outputs": [
        {
          "output_type": "stream",
          "name": "stdout",
          "text": [
            "[0.06324555 0.45607017 0.67330033 0.51510517 0.69761498]\n",
            "{'fit_time': array([0.01761913, 0.00076056, 0.00087571, 0.00998449, 0.00591612]), 'score_time': array([0.00159764, 0.01231766, 0.00127363, 0.02033401, 0.00153542]), 'test_score': array([0.06324555, 0.45607017, 0.67330033, 0.51510517, 0.69761498])}\n",
            "Sem padronização: 0.48106724085424457\n"
          ]
        }
      ]
    },
    {
      "cell_type": "code",
      "source": [
        "from sklearn.model_selection import GridSearchCV\n",
        "\n",
        "parametros = {'n_neighbors': [1,3,5]}\n",
        "\n",
        "modelo = GridSearchCV(KNeighborsRegressor(), parametros, scoring=make_scorer(mean_squared_error, greater_is_better=False, squared=False))\n",
        "modelo.fit(X, y)"
      ],
      "metadata": {
        "colab": {
          "base_uri": "https://localhost:8080/"
        },
        "id": "tm1HTCSeVlIa",
        "outputId": "9f472176-e4c3-448d-8e81-6ac7c1e5abf4"
      },
      "execution_count": 5,
      "outputs": [
        {
          "output_type": "execute_result",
          "data": {
            "text/plain": [
              "GridSearchCV(estimator=KNeighborsRegressor(),\n",
              "             param_grid={'n_neighbors': [1, 3, 5]},\n",
              "             scoring=make_scorer(mean_squared_error, greater_is_better=False, squared=False))"
            ]
          },
          "metadata": {},
          "execution_count": 5
        }
      ]
    },
    {
      "cell_type": "code",
      "source": [
        "modelo.cv_results_"
      ],
      "metadata": {
        "colab": {
          "base_uri": "https://localhost:8080/"
        },
        "id": "9T6oC85YVog-",
        "outputId": "e95fa512-93ed-484d-8026-f2219eac2be7"
      },
      "execution_count": 6,
      "outputs": [
        {
          "output_type": "execute_result",
          "data": {
            "text/plain": [
              "{'mean_fit_time': array([0.00076632, 0.00044265, 0.0004683 ]),\n",
              " 'std_fit_time': array([1.07401619e-04, 2.42955902e-05, 7.07863758e-05]),\n",
              " 'mean_score_time': array([0.00113006, 0.00070744, 0.0007618 ]),\n",
              " 'std_score_time': array([2.37061088e-04, 2.46259502e-05, 6.46731480e-05]),\n",
              " 'param_n_neighbors': masked_array(data=[1, 3, 5],\n",
              "              mask=[False, False, False],\n",
              "        fill_value='?',\n",
              "             dtype=object),\n",
              " 'params': [{'n_neighbors': 1}, {'n_neighbors': 3}, {'n_neighbors': 5}],\n",
              " 'split0_test_score': array([-0.        , -0.        , -0.06324555]),\n",
              " 'split1_test_score': array([-0.57735027, -0.50184844, -0.45607017]),\n",
              " 'split2_test_score': array([-0.85634884, -0.75767676, -0.67330033]),\n",
              " 'split3_test_score': array([-0.65828059, -0.55444333, -0.51510517]),\n",
              " 'split4_test_score': array([-0.81649658, -0.704483  , -0.69761498]),\n",
              " 'mean_test_score': array([-0.58169526, -0.50369031, -0.48106724]),\n",
              " 'std_test_score': array([0.30816224, 0.26874152, 0.22812491]),\n",
              " 'rank_test_score': array([3, 2, 1], dtype=int32)}"
            ]
          },
          "metadata": {},
          "execution_count": 6
        }
      ]
    },
    {
      "cell_type": "code",
      "source": [
        "modelo.best_estimator_"
      ],
      "metadata": {
        "colab": {
          "base_uri": "https://localhost:8080/"
        },
        "id": "fgKwETfiVsH1",
        "outputId": "133d8729-d606-4892-c963-4c56fa1391f4"
      },
      "execution_count": 7,
      "outputs": [
        {
          "output_type": "execute_result",
          "data": {
            "text/plain": [
              "KNeighborsRegressor()"
            ]
          },
          "metadata": {},
          "execution_count": 7
        }
      ]
    },
    {
      "cell_type": "code",
      "source": [
        "from sklearn.metrics import mean_squared_error\n",
        "from math import sqrt\n",
        "\n",
        "ypred = modelo.predict(X)\n",
        "mse = mean_squared_error(y, ypred)\n",
        "sqrt(mse)"
      ],
      "metadata": {
        "colab": {
          "base_uri": "https://localhost:8080/"
        },
        "id": "vZ2RQGktVvjV",
        "outputId": "008cbdb3-c08e-423d-eafe-3b30df54e475"
      },
      "execution_count": 8,
      "outputs": [
        {
          "output_type": "execute_result",
          "data": {
            "text/plain": [
              "0.3278210894171799"
            ]
          },
          "metadata": {},
          "execution_count": 8
        }
      ]
    },
    {
      "cell_type": "code",
      "source": [
        "scores = cross_validate(modelo, X, y, scoring=make_scorer(mean_squared_error, squared=False), return_estimator=True)\n",
        "print(scores['test_score'])\n",
        "sempad = np.mean(scores['test_score'])\n",
        "print(f\"Sem padronização: {sempad}\")"
      ],
      "metadata": {
        "colab": {
          "base_uri": "https://localhost:8080/"
        },
        "id": "zTg5g-pmVz6M",
        "outputId": "847900ec-7f47-473d-83ee-e5df8e5a1ddd"
      },
      "execution_count": 9,
      "outputs": [
        {
          "output_type": "stream",
          "name": "stdout",
          "text": [
            "[0.06324555 0.45607017 0.67330033 0.51510517 0.69761498]\n",
            "Sem padronização: 0.48106724085424457\n"
          ]
        }
      ]
    },
    {
      "cell_type": "code",
      "source": [
        "scores"
      ],
      "metadata": {
        "colab": {
          "base_uri": "https://localhost:8080/"
        },
        "id": "j4L7Dyx1V3a1",
        "outputId": "70a1b56c-1441-4f23-dc46-2414135a861e"
      },
      "execution_count": 10,
      "outputs": [
        {
          "output_type": "execute_result",
          "data": {
            "text/plain": [
              "{'fit_time': array([0.03079009, 0.02506828, 0.0245676 , 0.02608633, 0.0241518 ]),\n",
              " 'score_time': array([0.00077009, 0.00077105, 0.00075531, 0.00112462, 0.00074935]),\n",
              " 'estimator': [GridSearchCV(estimator=KNeighborsRegressor(),\n",
              "               param_grid={'n_neighbors': [1, 3, 5]},\n",
              "               scoring=make_scorer(mean_squared_error, greater_is_better=False, squared=False)),\n",
              "  GridSearchCV(estimator=KNeighborsRegressor(),\n",
              "               param_grid={'n_neighbors': [1, 3, 5]},\n",
              "               scoring=make_scorer(mean_squared_error, greater_is_better=False, squared=False)),\n",
              "  GridSearchCV(estimator=KNeighborsRegressor(),\n",
              "               param_grid={'n_neighbors': [1, 3, 5]},\n",
              "               scoring=make_scorer(mean_squared_error, greater_is_better=False, squared=False)),\n",
              "  GridSearchCV(estimator=KNeighborsRegressor(),\n",
              "               param_grid={'n_neighbors': [1, 3, 5]},\n",
              "               scoring=make_scorer(mean_squared_error, greater_is_better=False, squared=False)),\n",
              "  GridSearchCV(estimator=KNeighborsRegressor(),\n",
              "               param_grid={'n_neighbors': [1, 3, 5]},\n",
              "               scoring=make_scorer(mean_squared_error, greater_is_better=False, squared=False))],\n",
              " 'test_score': array([0.06324555, 0.45607017, 0.67330033, 0.51510517, 0.69761498])}"
            ]
          },
          "metadata": {},
          "execution_count": 10
        }
      ]
    },
    {
      "cell_type": "code",
      "source": [
        "for estimator in scores['estimator']:\n",
        "    print(estimator.best_estimator_)"
      ],
      "metadata": {
        "colab": {
          "base_uri": "https://localhost:8080/"
        },
        "id": "TJB4eBSuV67e",
        "outputId": "775cb3fa-9087-4921-f07b-b6f07b19c626"
      },
      "execution_count": 11,
      "outputs": [
        {
          "output_type": "stream",
          "name": "stdout",
          "text": [
            "KNeighborsRegressor()\n",
            "KNeighborsRegressor()\n",
            "KNeighborsRegressor()\n",
            "KNeighborsRegressor()\n",
            "KNeighborsRegressor()\n"
          ]
        }
      ]
    },
    {
      "cell_type": "code",
      "source": [
        "from sklearn.preprocessing import StandardScaler\n",
        "from sklearn.pipeline import Pipeline\n",
        "\n",
        "parametros = {'n_neighbors': [7 ,9 ,11 ,13]}\n",
        "\n",
        "GridSearchKNN = GridSearchCV(KNeighborsRegressor(), parametros, scoring='neg_root_mean_squared_error')\n",
        "\n",
        "modelo = Pipeline([\n",
        "    (\"padronização\", StandardScaler()),\n",
        "    (\"gsknn\", GridSearchKNN)\n",
        "])\n",
        "scores = cross_validate(modelo, X, y, scoring=make_scorer(mean_squared_error, squared=False))\n",
        "print(scores['test_score'])\n",
        "compad = np.mean(scores['test_score'])\n",
        "print(f\"Com padronização: {compad}\")"
      ],
      "metadata": {
        "colab": {
          "base_uri": "https://localhost:8080/"
        },
        "id": "w4-CjEjxV-dE",
        "outputId": "805ac6d7-d4d3-44d0-c0bf-95a7f731b600"
      },
      "execution_count": 12,
      "outputs": [
        {
          "output_type": "stream",
          "name": "stdout",
          "text": [
            "[0.0451754  0.44262667 0.62324584 0.50776287 0.69891156]\n",
            "Com padronização: 0.46354446526594284\n"
          ]
        }
      ]
    },
    {
      "cell_type": "code",
      "source": [
        "pipeline = Pipeline([\n",
        "    (\"padronização\", StandardScaler()),\n",
        "    (\"knn\", KNeighborsRegressor())\n",
        "])\n",
        "\n",
        "parametros = {'knn__n_neighbors': [7,9,11, 13]}\n",
        "\n",
        "modelo = GridSearchCV(pipeline, parametros, scoring='neg_root_mean_squared_error')\n",
        "\n",
        "scores = cross_validate(modelo, X, y, scoring=make_scorer(mean_squared_error, squared=False))\n",
        "print(scores['test_score'])\n",
        "compad = np.mean(scores['test_score'])\n",
        "print(f\"Com padronização: {compad}\")"
      ],
      "metadata": {
        "colab": {
          "base_uri": "https://localhost:8080/"
        },
        "id": "8DyaMx5UWCWE",
        "outputId": "a6f1ea3e-7d42-4a03-cb88-34344194da2e"
      },
      "execution_count": 13,
      "outputs": [
        {
          "output_type": "stream",
          "name": "stdout",
          "text": [
            "[0.0451754  0.44262667 0.63440455 0.50776287 0.68263196]\n",
            "Com padronização: 0.4625202887734445\n"
          ]
        }
      ]
    }
  ]
}