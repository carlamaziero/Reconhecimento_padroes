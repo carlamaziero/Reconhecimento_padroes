{
  "nbformat": 4,
  "nbformat_minor": 0,
  "metadata": {
    "colab": {
      "provenance": [],
      "authorship_tag": "ABX9TyNAQIP/Eiaggkm5MA1JMj/w",
      "include_colab_link": true
    },
    "kernelspec": {
      "name": "python3",
      "display_name": "Python 3"
    },
    "language_info": {
      "name": "python"
    }
  },
  "cells": [
    {
      "cell_type": "markdown",
      "metadata": {
        "id": "view-in-github",
        "colab_type": "text"
      },
      "source": [
        "<a href=\"https://colab.research.google.com/github/carlamaziero/Reconhecimento_padroes/blob/main/Aula7.ipynb\" target=\"_parent\"><img src=\"https://colab.research.google.com/assets/colab-badge.svg\" alt=\"Open In Colab\"/></a>"
      ]
    },
    {
      "cell_type": "code",
      "execution_count": 1,
      "metadata": {
        "colab": {
          "base_uri": "https://localhost:8080/"
        },
        "id": "FPFgdiWJh_QE",
        "outputId": "86150e24-c0a9-486a-a815-6dda4e05c6cc"
      },
      "outputs": [
        {
          "output_type": "stream",
          "name": "stdout",
          "text": [
            "Versão da Linguagem Python Usada Neste Jupyter Notebook: 3.7.14\n"
          ]
        }
      ],
      "source": [
        "from platform import python_version\n",
        "print('Versão da Linguagem Python Usada Neste Jupyter Notebook:', python_version())"
      ]
    },
    {
      "cell_type": "code",
      "source": [
        "import pandas as pd\n",
        "import numpy as np\n",
        "import statistics as st\n",
        "import matplotlib.pyplot as plt"
      ],
      "metadata": {
        "id": "pGgC-qhWiNaR"
      },
      "execution_count": 2,
      "outputs": []
    },
    {
      "cell_type": "code",
      "source": [
        "import pandas as pd\n",
        "df = pd.read_csv(\"https://archive.ics.uci.edu/ml/machine-learning-databases/00537/sobar-72.csv\")\n",
        "X, y = df.iloc[:, :6], df.iloc[:, -1]\n",
        "X.shape, y.shape"
      ],
      "metadata": {
        "colab": {
          "base_uri": "https://localhost:8080/"
        },
        "id": "xryb-6ySiQy0",
        "outputId": "efc48046-3faa-4d06-a8a9-d803085a351e"
      },
      "execution_count": 3,
      "outputs": [
        {
          "output_type": "execute_result",
          "data": {
            "text/plain": [
              "((72, 6), (72,))"
            ]
          },
          "metadata": {},
          "execution_count": 3
        }
      ]
    },
    {
      "cell_type": "code",
      "source": [
        "from sklearn.model_selection import train_test_split\n",
        "X_tr, X_te, y_tr, y_te = train_test_split(X, y, random_state=42)\n",
        "X_tr.shape, X_te.shape, y_tr.shape, y_te.shape"
      ],
      "metadata": {
        "colab": {
          "base_uri": "https://localhost:8080/"
        },
        "id": "MghA0qifiUj5",
        "outputId": "14a4bb77-4b6c-4d98-9f5a-7926bf83e558"
      },
      "execution_count": 4,
      "outputs": [
        {
          "output_type": "execute_result",
          "data": {
            "text/plain": [
              "((54, 6), (18, 6), (54,), (18,))"
            ]
          },
          "metadata": {},
          "execution_count": 4
        }
      ]
    },
    {
      "cell_type": "code",
      "source": [
        "from sklearn.neighbors import KNeighborsClassifier\n",
        "from sklearn.naive_bayes import GaussianNB\n",
        "from sklearn.linear_model import Perceptron\n",
        "from sklearn.tree import DecisionTreeClassifier\n",
        "from sklearn.ensemble import RandomForestClassifier\n",
        "\n",
        "\n",
        "for Algoritmo in [KNeighborsClassifier, GaussianNB, Perceptron, DecisionTreeClassifier, RandomForestClassifier]:\n",
        "    modelo = Algoritmo()\n",
        "    modelo.fit(X_tr, y_tr)\n",
        "    y_pr = modelo.predict(X_te)\n",
        "    hits = y_pr == y_te\n",
        "    print(modelo, sum(hits)/len(hits))"
      ],
      "metadata": {
        "colab": {
          "base_uri": "https://localhost:8080/"
        },
        "id": "apf9QwukiYLy",
        "outputId": "0eb62528-ead9-41f4-9a24-5bd4fb9e813e"
      },
      "execution_count": 5,
      "outputs": [
        {
          "output_type": "stream",
          "name": "stdout",
          "text": [
            "KNeighborsClassifier() 0.7222222222222222\n",
            "GaussianNB() 0.7777777777777778\n",
            "Perceptron() 0.6111111111111112\n",
            "DecisionTreeClassifier() 0.7222222222222222\n",
            "RandomForestClassifier() 0.7777777777777778\n"
          ]
        }
      ]
    },
    {
      "cell_type": "code",
      "source": [
        "from sklearn.ensemble import VotingClassifier\n",
        "modelo = VotingClassifier([\n",
        "    ('knn', KNeighborsClassifier()),\n",
        "    ('naivebayes', GaussianNB()),\n",
        "    ('perceptron', Perceptron()),\n",
        "    ('arvore', DecisionTreeClassifier()),\n",
        "    ('randomforest', RandomForestClassifier(random_state=42))\n",
        "])\n",
        "modelo.fit(X_tr, y_tr)\n",
        "y_pr = modelo.predict(X_te)\n",
        "hits = y_pr == y_te\n",
        "sum(hits)/len(hits)"
      ],
      "metadata": {
        "colab": {
          "base_uri": "https://localhost:8080/"
        },
        "id": "gpbko-7qicOy",
        "outputId": "07a73ac7-0fbc-4184-b7ad-5c3bda9227c2"
      },
      "execution_count": 6,
      "outputs": [
        {
          "output_type": "execute_result",
          "data": {
            "text/plain": [
              "0.7222222222222222"
            ]
          },
          "metadata": {},
          "execution_count": 6
        }
      ]
    },
    {
      "cell_type": "code",
      "source": [
        "from sklearn.ensemble import StackingClassifier\n",
        "\n",
        "modelo = StackingClassifier([\n",
        "    ('knn', KNeighborsClassifier()),\n",
        "    ('naivebayes', GaussianNB()),\n",
        "    ('perceptron', Perceptron()),\n",
        "    ('arvore', DecisionTreeClassifier()),\n",
        "    ('randomforest', RandomForestClassifier(random_state=42))\n",
        "])\n",
        "modelo.fit(X_tr, y_tr)\n",
        "y_pr = modelo.predict(X_te)\n",
        "hits = y_pr == y_te\n",
        "sum(hits)/len(hits)"
      ],
      "metadata": {
        "colab": {
          "base_uri": "https://localhost:8080/"
        },
        "id": "yZYi7bCUihh6",
        "outputId": "9d8676c1-bad8-4f17-a929-ba427f63bdc4"
      },
      "execution_count": 7,
      "outputs": [
        {
          "output_type": "execute_result",
          "data": {
            "text/plain": [
              "0.7222222222222222"
            ]
          },
          "metadata": {},
          "execution_count": 7
        }
      ]
    },
    {
      "cell_type": "code",
      "source": [
        "from sklearn.ensemble import ExtraTreesClassifier\n",
        "\n",
        "voting = VotingClassifier([\n",
        "    ('knn', KNeighborsClassifier()),\n",
        "    ('naivebayes', GaussianNB()),\n",
        "    ('perceptron', Perceptron()),\n",
        "    ('arvore', DecisionTreeClassifier()),\n",
        "    ('randomforest', RandomForestClassifier(random_state=42))\n",
        "])\n",
        "\n",
        "modelo = StackingClassifier([\n",
        "    ('voting', voting),\n",
        "    ('extratrees', ExtraTreesClassifier(random_state=42))\n",
        "\n",
        "])\n",
        "modelo.fit(X_tr, y_tr)\n",
        "y_pr = modelo.predict(X_te)\n",
        "hits = y_pr == y_te\n",
        "sum(hits)/len(hits)"
      ],
      "metadata": {
        "colab": {
          "base_uri": "https://localhost:8080/"
        },
        "id": "yvMLDdK5ipBu",
        "outputId": "269a2d84-3a60-4e19-96f2-1965ac364c94"
      },
      "execution_count": 8,
      "outputs": [
        {
          "output_type": "execute_result",
          "data": {
            "text/plain": [
              "0.6666666666666666"
            ]
          },
          "metadata": {},
          "execution_count": 8
        }
      ]
    },
    {
      "cell_type": "code",
      "source": [
        "from sklearn.model_selection import GridSearchCV\n",
        "import numpy as np\n",
        "\n",
        "par_knn = {'n_neighbors': [3,5,7]}\n",
        "gs_knn = GridSearchCV(KNeighborsClassifier(), par_knn)\n",
        "\n",
        "par_nb = {'var_smoothing': np.logspace(0,-9, num=100)}\n",
        "gs_naivebayes = GridSearchCV(GaussianNB(), par_nb)\n",
        "\n",
        "par_per = {'alpha': [0.0001, 0.0003, 0.001, 0.003, 0.01, 0.03, 0.1, 0.3]}\n",
        "gs_perceptron = GridSearchCV(Perceptron(), par_per)\n",
        "\n",
        "par_arvore = {'max_depth': [10, 15, 25]}\n",
        "gs_arvore = GridSearchCV(DecisionTreeClassifier(), par_arvore)\n",
        "\n",
        "par_randomforest = {'max_depth': [10, 15, 25], 'n_estimators': [100, 150, 200]}\n",
        "gs_randomforest = GridSearchCV(RandomForestClassifier(random_state=42), par_randomforest)\n",
        "\n",
        "voting = VotingClassifier([\n",
        "    ('gs_knn', gs_knn),\n",
        "    ('gs_naivebayes', gs_naivebayes),\n",
        "    ('gs_perceptron', gs_perceptron),\n",
        "    ('gs_arvore', gs_arvore),\n",
        "    ('gs_randomforest', gs_randomforest)\n",
        "])\n",
        "\n",
        "modelo = StackingClassifier([\n",
        "    ('voting', voting),\n",
        "    ('extratrees', ExtraTreesClassifier(random_state=42))\n",
        "])\n",
        "modelo.fit(X_tr, y_tr)\n",
        "y_pr = modelo.predict(X_te)\n",
        "hits = y_pr == y_te\n",
        "sum(hits)/len(hits)"
      ],
      "metadata": {
        "colab": {
          "base_uri": "https://localhost:8080/"
        },
        "id": "UUkK6dmTixKj",
        "outputId": "927f8222-691a-496e-8f62-7b41d9b5ca1e"
      },
      "execution_count": 10,
      "outputs": [
        {
          "output_type": "execute_result",
          "data": {
            "text/plain": [
              "0.6111111111111112"
            ]
          },
          "metadata": {},
          "execution_count": 10
        }
      ]
    }
  ]
}