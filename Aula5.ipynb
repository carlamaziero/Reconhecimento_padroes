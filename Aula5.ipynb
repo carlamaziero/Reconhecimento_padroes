{
  "nbformat": 4,
  "nbformat_minor": 0,
  "metadata": {
    "colab": {
      "provenance": [],
      "authorship_tag": "ABX9TyMPguYo38MxTN0B3FFtWuEE",
      "include_colab_link": true
    },
    "kernelspec": {
      "name": "python3",
      "display_name": "Python 3"
    },
    "language_info": {
      "name": "python"
    }
  },
  "cells": [
    {
      "cell_type": "markdown",
      "metadata": {
        "id": "view-in-github",
        "colab_type": "text"
      },
      "source": [
        "<a href=\"https://colab.research.google.com/github/carlamaziero/Reconhecimento_padroes/blob/main/Aula5.ipynb\" target=\"_parent\"><img src=\"https://colab.research.google.com/assets/colab-badge.svg\" alt=\"Open In Colab\"/></a>"
      ]
    },
    {
      "cell_type": "code",
      "execution_count": 1,
      "metadata": {
        "colab": {
          "base_uri": "https://localhost:8080/"
        },
        "id": "JdlGJy2wbvQo",
        "outputId": "f75c7e4a-3814-44d9-d6fd-b5e7fe561a78"
      },
      "outputs": [
        {
          "output_type": "stream",
          "name": "stdout",
          "text": [
            "Versão da Linguagem Python Usada Neste Jupyter Notebook: 3.7.14\n"
          ]
        }
      ],
      "source": [
        "from platform import python_version\n",
        "print('Versão da Linguagem Python Usada Neste Jupyter Notebook:', python_version())"
      ]
    },
    {
      "cell_type": "code",
      "source": [
        "from sklearn.datasets import load_iris\n",
        "iris = load_iris()\n",
        "X, y = iris.data[:,2:], iris.target"
      ],
      "metadata": {
        "id": "NmM6AIhtcSrT"
      },
      "execution_count": 2,
      "outputs": []
    },
    {
      "cell_type": "code",
      "source": [
        "import numpy as np\n",
        "import math\n",
        "\n",
        "\n",
        "\n",
        "def impureza(y): \n",
        "    labels = list(set(y))\n",
        "    labels.sort()\n",
        "    probabilidades = np.zeros((len(labels),))\n",
        "    for i,k in enumerate(labels):\n",
        "        probabilidades[i] = sum(y==k)/len(y)\n",
        "    result = 1 - sum(probabilidades**2)\n",
        "    return result\n",
        "\n",
        "\n",
        "\n",
        "def impurezaValor(x, y, valor):\n",
        "    maiores = x > valor\n",
        "    impurezaMaiores = impureza(y[maiores])\n",
        "    propMaiores = sum(maiores)/len(y)\n",
        "    impurezaMenores = impureza(y[~maiores])\n",
        "    propMenores = sum(~maiores)/len(y)\n",
        "    impurezaTotal = impurezaMaiores*propMaiores + impurezaMenores*propMenores\n",
        "    return impurezaTotal, impurezaMaiores, impurezaMenores"
      ],
      "metadata": {
        "id": "VzJ30Q9bcWnt"
      },
      "execution_count": 3,
      "outputs": []
    },
    {
      "cell_type": "code",
      "source": [
        "def melhorValor1(x, y):\n",
        "   result = None\n",
        "   menorImpureza = float('inf')\n",
        "   xmax = np.max(x)\n",
        "   xmin = np.min(x)\n",
        "   while True:\n",
        "        valor = math.sqrt(xmin*xmax) # média geométrica\n",
        "        impTotal, impMaiores, impMenores =  impurezaValor(x, y, valor)\n",
        "        if impTotal < menorImpureza:\n",
        "            menorImpureza = impTotal\n",
        "            result = valor\n",
        "            if impMaiores == 0 or impMenores == 0:\n",
        "                break\n",
        "            if impMaiores < impMenores:\n",
        "                xmin = valor\n",
        "            else:\n",
        "                xmax = valor\n",
        "        else:\n",
        "            break\n",
        "   return result, menorImpureza\n",
        "\n",
        "melhorValor1(X[:,0], y)"
      ],
      "metadata": {
        "colab": {
          "base_uri": "https://localhost:8080/"
        },
        "id": "m3mc0Fxfccop",
        "outputId": "e2e3358b-68a6-41c0-df07-5d7d1c45e053"
      },
      "execution_count": 4,
      "outputs": [
        {
          "output_type": "execute_result",
          "data": {
            "text/plain": [
              "(2.6267851073127395, 0.3333333333333333)"
            ]
          },
          "metadata": {},
          "execution_count": 4
        }
      ]
    },
    {
      "cell_type": "code",
      "source": [
        "def melhorValor2(x, y):\n",
        "   result = None\n",
        "   menorImpureza = float('inf')\n",
        "   xmax = np.max(x)\n",
        "   xmin = np.min(x)\n",
        "   while True:\n",
        "        valor = (xmin+xmax)/2 # média aritmética\n",
        "        impTotal, impMaiores, impMenores =  impurezaValor(x, y, valor)\n",
        "        if impTotal < menorImpureza:\n",
        "            menorImpureza = impTotal\n",
        "            result = valor\n",
        "            if impMaiores == 0 or impMenores == 0:\n",
        "                break\n",
        "            if impMaiores < impMenores:\n",
        "                xmin = valor\n",
        "            else:\n",
        "                xmax = valor\n",
        "        else:\n",
        "            break\n",
        "   return result, menorImpureza\n",
        "\n",
        "melhorValor2(X[:,0], y)"
      ],
      "metadata": {
        "colab": {
          "base_uri": "https://localhost:8080/"
        },
        "id": "w-o4yI5Tcic3",
        "outputId": "b558db91-cc50-4cae-be05-dbacdbaf7457"
      },
      "execution_count": 5,
      "outputs": [
        {
          "output_type": "execute_result",
          "data": {
            "text/plain": [
              "(2.475, 0.3333333333333333)"
            ]
          },
          "metadata": {},
          "execution_count": 5
        }
      ]
    },
    {
      "cell_type": "code",
      "source": [
        "def melhorCaracteristica1(X, y):\n",
        "    impurezas = []\n",
        "    valores =  []\n",
        "    for caracteristica in range(X.shape[1]):\n",
        "      valor, imp = melhorValor1(X[:, caracteristica], y)\n",
        "      impurezas.append(imp) \n",
        "      valores.append(valor)\n",
        "    impurezas = np.array(impurezas)\n",
        "    caracteristica = np.argmin(impurezas)\n",
        "    return caracteristica, valores[caracteristica], impurezas[caracteristica]\n",
        "\n",
        "melhorCaracteristica1(X, y)"
      ],
      "metadata": {
        "colab": {
          "base_uri": "https://localhost:8080/"
        },
        "id": "A0x7T3V7cnE7",
        "outputId": "0ef7da8b-55e6-4e01-82e9-57fdfafbd341"
      },
      "execution_count": 6,
      "outputs": [
        {
          "output_type": "execute_result",
          "data": {
            "text/plain": [
              "(0, 2.6267851073127395, 0.3333333333333333)"
            ]
          },
          "metadata": {},
          "execution_count": 6
        }
      ]
    },
    {
      "cell_type": "code",
      "source": [
        "def melhorCaracteristica2(X, y):\n",
        "    impurezas = []\n",
        "    valores =  []\n",
        "    for caracteristica in range(X.shape[1]):\n",
        "      valor, imp = melhorValor2(X[:, caracteristica], y)\n",
        "      impurezas.append(imp) \n",
        "      valores.append(valor)\n",
        "    impurezas = np.array(impurezas)\n",
        "    caracteristica = np.argmin(impurezas)\n",
        "    return caracteristica, valores[caracteristica], impurezas[caracteristica]\n",
        "\n",
        "melhorCaracteristica2(X, y)"
      ],
      "metadata": {
        "colab": {
          "base_uri": "https://localhost:8080/"
        },
        "id": "XfeN_LuNcrZj",
        "outputId": "371f69b9-b91e-4b7b-d3af-988bc1b03296"
      },
      "execution_count": 7,
      "outputs": [
        {
          "output_type": "execute_result",
          "data": {
            "text/plain": [
              "(0, 2.475, 0.3333333333333333)"
            ]
          },
          "metadata": {},
          "execution_count": 7
        }
      ]
    },
    {
      "cell_type": "code",
      "source": [
        "from sklearn.metrics import accuracy_score\n",
        "import numpy as np\n",
        "from collections import Counter\n",
        "from sklearn.base import BaseEstimator, ClassifierMixin\n",
        "\n",
        "def maisFrequente(y):\n",
        "    return Counter(y.flat).most_common(1)[0][0]\n",
        "\n",
        "class Arvore1(BaseEstimator, ClassifierMixin):\n",
        "    def fit(self, X, y):\n",
        "        self.caracteristica, self.valor, self.imp = melhorCaracteristica1(X, y)\n",
        "        maiores = X[:,self.caracteristica] > self.valor\n",
        "        if sum(maiores)>0 and sum(~maiores)>0:\n",
        "            self.maiores = Arvore1()\n",
        "            self.maiores.fit(X[maiores,:],y[maiores])\n",
        "            self.menores = Arvore1()\n",
        "            self.menores.fit(X[~maiores,:],y[~maiores])\n",
        "        else:\n",
        "            self.resposta = maisFrequente(y)\n",
        "    def predict(self, X):\n",
        "        y = np.empty((X.shape[0]))\n",
        "        if hasattr(self, 'resposta'):\n",
        "            y[:] = self.resposta\n",
        "        else:\n",
        "            maiores = X[:,self.caracteristica] > self.valor\n",
        "            y[maiores] = self.maiores.predict(X[maiores,:])\n",
        "            y[~maiores] = self.menores.predict(X[~maiores,:])\n",
        "        return y"
      ],
      "metadata": {
        "id": "HhPyaos8cxuU"
      },
      "execution_count": 8,
      "outputs": []
    },
    {
      "cell_type": "code",
      "source": [
        "class Arvore2(BaseEstimator, ClassifierMixin):\n",
        "    def fit(self, X, y):\n",
        "        self.caracteristica, self.valor, self.imp = melhorCaracteristica2(X, y)\n",
        "        maiores = X[:,self.caracteristica] > self.valor\n",
        "        if sum(maiores)>0 and sum(~maiores)>0:\n",
        "            self.maiores = Arvore2()\n",
        "            self.maiores.fit(X[maiores,:],y[maiores])\n",
        "            self.menores = Arvore2()\n",
        "            self.menores.fit(X[~maiores,:],y[~maiores])\n",
        "        else:\n",
        "            self.resposta = maisFrequente(y)\n",
        "    def predict(self, X):\n",
        "        y = np.empty((X.shape[0]))\n",
        "        if hasattr(self, 'resposta'):\n",
        "            y[:] = self.resposta\n",
        "        else:\n",
        "            maiores = X[:,self.caracteristica] > self.valor\n",
        "            y[maiores] = self.maiores.predict(X[maiores,:])\n",
        "            y[~maiores] = self.menores.predict(X[~maiores,:])\n",
        "        return y"
      ],
      "metadata": {
        "id": "t3yOMkP6czuS"
      },
      "execution_count": 9,
      "outputs": []
    },
    {
      "cell_type": "code",
      "source": [
        "from sklearn.tree import DecisionTreeClassifier\n",
        "from sklearn.neighbors import KNeighborsClassifier\n",
        "from sklearn.linear_model import LogisticRegression\n",
        "\n",
        "\n",
        "for Algoritmo in [Arvore1, Arvore2, DecisionTreeClassifier, KNeighborsClassifier, LogisticRegression]:\n",
        "    modelo = Algoritmo()\n",
        "    modelo.fit(X,y)\n",
        "    ypred = modelo.predict(X)\n",
        "    print(\"Modelo: \", modelo, \"Acurácia: \", accuracy_score(y, ypred))"
      ],
      "metadata": {
        "colab": {
          "base_uri": "https://localhost:8080/"
        },
        "id": "sF0bSKTsc6Bt",
        "outputId": "ee38ddbe-564b-4243-851a-6bd2bc0dc697"
      },
      "execution_count": 10,
      "outputs": [
        {
          "output_type": "stream",
          "name": "stdout",
          "text": [
            "Modelo:  Arvore1() Acurácia:  0.9933333333333333\n",
            "Modelo:  Arvore2() Acurácia:  0.9933333333333333\n",
            "Modelo:  DecisionTreeClassifier() Acurácia:  0.9933333333333333\n",
            "Modelo:  KNeighborsClassifier() Acurácia:  0.96\n",
            "Modelo:  LogisticRegression() Acurácia:  0.9666666666666667\n"
          ]
        }
      ]
    },
    {
      "cell_type": "code",
      "source": [
        "import matplotlib.pyplot as plt\n",
        "\n",
        "def plotDecisao(modelo, X, y):\n",
        "    modelo.fit(X, y)\n",
        "    x0s = np.linspace(np.min(X[:,0])-0.2, np.max(X[:,0])+0.2, 100)\n",
        "    x1s = np.linspace(np.min(X[:,1])-0.2, np.max(X[:,1])+0.2, 100)\n",
        "    x0, x1 = np.meshgrid(x0s, x1s)\n",
        "    Xdec = np.c_[x0.ravel(), x1.ravel()]\n",
        "    ypred = modelo.predict(Xdec)\n",
        "    plt.contourf(x0, x1, ypred.reshape(x0.shape), alpha=0.25)\n",
        "    for k in set(y):\n",
        "        plt.plot(X[:,0][y==k], X[:,1][y==k], 'o', label=f\"{iris.target_names[k]} [{k}]\")\n",
        "\n",
        "    plt.xlabel(f\"X[0]: {iris.feature_names[0]}\")\n",
        "    plt.ylabel(f\"X[1]: {iris.feature_names[1]}\")\n",
        "    plt.show()"
      ],
      "metadata": {
        "id": "yHmmC0i8c-IQ"
      },
      "execution_count": 11,
      "outputs": []
    },
    {
      "cell_type": "code",
      "source": [
        "for Algoritmo in [Arvore1, Arvore2, DecisionTreeClassifier, KNeighborsClassifier, LogisticRegression]:\n",
        "    modelo = Algoritmo()\n",
        "    print(\"Modelo: \", modelo)\n",
        "    plotDecisao(modelo, X, y)"
      ],
      "metadata": {
        "colab": {
          "base_uri": "https://localhost:8080/",
          "height": 1000
        },
        "id": "wjOe672wdCFe",
        "outputId": "fb4a0640-42df-435e-f48a-30f1cdf02b1b"
      },
      "execution_count": 12,
      "outputs": [
        {
          "output_type": "stream",
          "name": "stdout",
          "text": [
            "Modelo:  Arvore1()\n"
          ]
        },
        {
          "output_type": "display_data",
          "data": {
            "text/plain": [
              "<Figure size 432x288 with 1 Axes>"
            ],
            "image/png": "[encoded data removed]"
          },
          "metadata": {
            "needs_background": "light"
          }
        },
        {
          "output_type": "stream",
          "name": "stdout",
          "text": [
            "Modelo:  Arvore2()\n"
          ]
        },
        {
          "output_type": "display_data",
          "data": {
            "text/plain": [
              "<Figure size 432x288 with 1 Axes>"
            ],
            "image/png": "[encoded data removed]"
          },
          "metadata": {
            "needs_background": "light"
          }
        },
        {
          "output_type": "stream",
          "name": "stdout",
          "text": [
            "Modelo:  DecisionTreeClassifier()\n"
          ]
        },
        {
          "output_type": "display_data",
          "data": {
            "text/plain": [
              "<Figure size 432x288 with 1 Axes>"
            ],
            "image/png": "[encoded data removed]"
          },
          "metadata": {
            "needs_background": "light"
          }
        },
        {
          "output_type": "stream",
          "name": "stdout",
          "text": [
            "Modelo:  KNeighborsClassifier()\n"
          ]
        },
        {
          "output_type": "display_data",
          "data": {
            "text/plain": [
              "<Figure size 432x288 with 1 Axes>"
            ],
            "image/png": "[encoded data removed]"
          },
          "metadata": {
            "needs_background": "light"
          }
        },
        {
          "output_type": "stream",
          "name": "stdout",
          "text": [
            "Modelo:  LogisticRegression()\n"
          ]
        },
        {
          "output_type": "display_data",
          "data": {
            "text/plain": [
              "<Figure size 432x288 with 1 Axes>"
            ],
            "image/png": "[encoded data removed]"
          },
          "metadata": {
            "needs_background": "light"
          }
        }
      ]
    },
    {
      "cell_type": "code",
      "source": [
        "import pandas as pd\n",
        "df = pd.read_csv(\"https://archive.ics.uci.edu/ml/machine-learning-databases/00537/sobar-72.csv\")\n",
        "X, y = df.iloc[:, :6], df.iloc[:, -1]\n",
        "X.shape, y.shape\n",
        "\n",
        "from sklearn.model_selection import train_test_split\n",
        "X_tr, X_te, y_tr, y_te = train_test_split(X, y, random_state=42)\n",
        "X_tr.shape, X_te.shape, y_tr.shape, y_te.shape"
      ],
      "metadata": {
        "colab": {
          "base_uri": "https://localhost:8080/"
        },
        "id": "LKlxyOVvdKi9",
        "outputId": "ec7a6cd7-4944-44a9-bde6-a6cbf8c83447"
      },
      "execution_count": 13,
      "outputs": [
        {
          "output_type": "execute_result",
          "data": {
            "text/plain": [
              "((54, 6), (18, 6), (54,), (18,))"
            ]
          },
          "metadata": {},
          "execution_count": 13
        }
      ]
    },
    {
      "cell_type": "code",
      "source": [
        "from sklearn.neighbors import KNeighborsClassifier\n",
        "from sklearn.naive_bayes import GaussianNB\n",
        "from sklearn.linear_model import Perceptron\n",
        "from sklearn.tree import DecisionTreeClassifier\n",
        "from sklearn.ensemble import RandomForestClassifier\n",
        "\n",
        "\n",
        "for Algoritmo in [KNeighborsClassifier, GaussianNB, Perceptron, DecisionTreeClassifier, RandomForestClassifier]:\n",
        "    modelo = Algoritmo()\n",
        "    modelo.fit(X_tr, y_tr)\n",
        "    y_pr = modelo.predict(X_te)\n",
        "    hits = y_pr == y_te\n",
        "    print(modelo, sum(hits)/len(hits))"
      ],
      "metadata": {
        "colab": {
          "base_uri": "https://localhost:8080/"
        },
        "id": "HelHyShUdTeR",
        "outputId": "9c3a8eb4-8c80-4194-c539-93682e87cbff"
      },
      "execution_count": 14,
      "outputs": [
        {
          "output_type": "stream",
          "name": "stdout",
          "text": [
            "KNeighborsClassifier() 0.7222222222222222\n",
            "GaussianNB() 0.7777777777777778\n",
            "Perceptron() 0.6111111111111112\n",
            "DecisionTreeClassifier() 0.7222222222222222\n",
            "RandomForestClassifier() 0.6666666666666666\n"
          ]
        }
      ]
    },
    {
      "cell_type": "code",
      "source": [
        "from sklearn.model_selection import cross_validate\n",
        "from sklearn import preprocessing"
      ],
      "metadata": {
        "id": "AlBQ7PgYdXoM"
      },
      "execution_count": 15,
      "outputs": []
    },
    {
      "cell_type": "code",
      "source": [
        "X, y = data[:,0::12], data[:,-1]\n",
        "X = X.astype(str)\n",
        "y = preprocessing.LabelEncoder().fit_transform(y)"
      ],
      "metadata": {
        "id": "VOWgPUMhda9j"
      },
      "execution_count": 18,
      "outputs": []
    },
    {
      "cell_type": "code",
      "source": [
        "data = np.loadtxt(\"https://archive.ics.uci.edu/ml/machine-learning-databases/00537/sobar-72.csv\", dtype='str', delimiter=',')\n",
        "\n",
        "X, y = data[1:10000,:2], data[1:10000,-1]\n",
        "X = X.astype(float)\n",
        "y = preprocessing.LabelEncoder().fit_transform(y)\n",
        "\n",
        "for Algoritmo in [Arvore1, Arvore2, DecisionTreeClassifier, KNeighborsClassifier, LogisticRegression]:\n",
        "    modelo = Algoritmo()\n",
        "    print(\"Modelo: \", modelo)\n",
        "    scores = cross_validate(modelo, X, y)\n",
        "    print(scores['test_score'], np.mean(scores['test_score']))"
      ],
      "metadata": {
        "colab": {
          "base_uri": "https://localhost:8080/"
        },
        "id": "plaMdoBNdn1v",
        "outputId": "21133109-951f-4f5d-ae95-1d4707eb3a28"
      },
      "execution_count": 17,
      "outputs": [
        {
          "output_type": "stream",
          "name": "stdout",
          "text": [
            "Modelo:  Arvore1()\n",
            "[0.73333333 0.8        0.78571429 0.71428571 0.64285714] 0.7352380952380952\n",
            "Modelo:  Arvore2()\n",
            "[0.73333333 0.8        0.78571429 0.71428571 0.64285714] 0.7352380952380952\n",
            "Modelo:  DecisionTreeClassifier()\n",
            "[0.73333333 0.8        0.78571429 0.71428571 0.64285714] 0.7352380952380952\n",
            "Modelo:  KNeighborsClassifier()\n",
            "[0.6        0.46666667 0.35714286 0.64285714 0.71428571] 0.5561904761904762\n",
            "Modelo:  LogisticRegression()\n",
            "[0.66666667 0.73333333 0.78571429 0.78571429 0.71428571] 0.7371428571428571\n"
          ]
        }
      ]
    },
    {
      "cell_type": "code",
      "source": [
        "data = np.loadtxt('https://archive.ics.uci.edu/ml/machine-learning-databases/00537/sobar-72.csv', dtype='str', delimiter=',')\n",
        "X, y = data[1:,[0, 3, 4, 7] ], data[1:,-1]\n",
        "X = X.astype(int)\n",
        "y = y.astype(float)\n",
        "\n",
        "for Algoritmo in [Arvore1, Arvore2, DecisionTreeClassifier, KNeighborsClassifier, LogisticRegression]:\n",
        "    modelo = Algoritmo()\n",
        "    print(\"Modelo: \", modelo)\n",
        "    scores = cross_validate(modelo, X, y)\n",
        "    print(scores['test_score'], np.mean(scores['test_score']))"
      ],
      "metadata": {
        "colab": {
          "base_uri": "https://localhost:8080/"
        },
        "id": "2_Y5TN63duwS",
        "outputId": "35323508-5735-457f-ffa4-649025dd7545"
      },
      "execution_count": 19,
      "outputs": [
        {
          "output_type": "stream",
          "name": "stdout",
          "text": [
            "Modelo:  Arvore1()\n",
            "[0.6        0.53333333 0.85714286 0.57142857 0.64285714] 0.6409523809523809\n",
            "Modelo:  Arvore2()\n",
            "[0.73333333 0.66666667 0.78571429 0.5        0.57142857] 0.6514285714285715\n",
            "Modelo:  DecisionTreeClassifier()\n",
            "[0.6        0.73333333 0.78571429 0.5        0.64285714] 0.6523809523809524\n",
            "Modelo:  KNeighborsClassifier()\n",
            "[0.6        0.4        0.71428571 0.64285714 0.71428571] 0.6142857142857143\n",
            "Modelo:  LogisticRegression()\n",
            "[0.86666667 0.6        0.78571429 0.57142857 0.85714286] 0.7361904761904762\n"
          ]
        }
      ]
    }
  ]
}